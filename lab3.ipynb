{
 "cells": [
  {
   "cell_type": "markdown",
   "metadata": {},
   "source": [
    "Условия лабораторной:\n",
    "Вариант 7:\n",
    "Федеральный округ - Сибирский ФО;\n",
    "alpha = 0.01\n",
    "M = 6000\n",
    "(a, sigma) = (2, 1)\n",
    "n = 73"
   ]
  },
  {
   "cell_type": "code",
   "execution_count": 1,
   "metadata": {},
   "outputs": [],
   "source": [
    "import os\n",
    "import math\n",
    "import numpy as np\n",
    "import pandas as pd\n",
    "import matplotlib.pyplot as plt\n",
    "import scipy\n",
    "from scipy import stats\n",
    "from scipy.stats import norm"
   ]
  },
  {
   "cell_type": "code",
   "execution_count": 15,
   "metadata": {},
   "outputs": [],
   "source": [
    "alpha = 0.01\n",
    "a = 2\n",
    "sigma = 1\n",
    "n = 73\n",
    "M = 6000\n",
    "k_bins = 3"
   ]
  },
  {
   "cell_type": "code",
   "execution_count": 16,
   "metadata": {},
   "outputs": [
    {
     "data": {
      "image/png": "[encoded data removed]",
      "text/plain": [
       "<Figure size 640x480 with 1 Axes>"
      ]
     },
     "metadata": {},
     "output_type": "display_data"
    }
   ],
   "source": [
    "X=np.random.normal(loc=a,scale=sigma,size=n)\n",
    "f_obs, bins, ignored = plt.hist(X,k_bins)"
   ]
  },
  {
   "cell_type": "code",
   "execution_count": 17,
   "metadata": {},
   "outputs": [
    {
     "name": "stdout",
     "output_type": "stream",
     "text": [
      "ShapiroResult(statistic=0.9788234829902649, pvalue=0.257175475358963)\n"
     ]
    }
   ],
   "source": [
    "rez=stats.shapiro(X)\n",
    "print(rez)"
   ]
  },
  {
   "cell_type": "code",
   "execution_count": 19,
   "metadata": {},
   "outputs": [
    {
     "name": "stdout",
     "output_type": "stream",
     "text": [
      "4.750458706959115e-12\n",
      "1.1300791413759725e-09\n",
      "1.9578472347347997e-05\n",
      "9.776676961337216e-07\n",
      "0.0003172104188706726\n",
      "0.0020543832797557116\n",
      "0.020638206973671913\n",
      "0.1607905626296997\n",
      "0.003632004838436842\n",
      "0.0039764042012393475\n",
      "0.08079968392848969\n",
      "0.006216953042894602\n",
      "0.028439272195100784\n",
      "0.0005113067454658449\n",
      "0.03216833621263504\n",
      "0.15398775041103363\n",
      "0.15419475734233856\n",
      "0.12780030071735382\n",
      "0.07970929890871048\n",
      "0.4894658029079437\n",
      "0.34107789397239685\n",
      "0.17452271282672882\n",
      "0.09448188543319702\n",
      "0.5993062853813171\n",
      "0.4564144015312195\n"
     ]
    }
   ],
   "source": [
    "for i in range(25):\n",
    "    X=np.random.chisquare(df=i+1,size=n)\n",
    "    rez=stats.shapiro(X)\n",
    "    print(rez.pvalue)"
   ]
  },
  {
   "cell_type": "code",
   "execution_count": 20,
   "metadata": {},
   "outputs": [
    {
     "name": "stdout",
     "output_type": "stream",
     "text": [
      "0.4564144015312195\n",
      "0.4564144015312195\n",
      "0.4564144015312195\n",
      "0.4564144015312195\n",
      "0.4564144015312195\n",
      "0.4564144015312195\n",
      "0.4564144015312195\n",
      "0.4564144015312195\n",
      "0.4564144015312195\n",
      "0.4564144015312195\n",
      "0.4564144015312195\n",
      "0.4564144015312195\n",
      "0.4564144015312195\n",
      "0.4564144015312195\n",
      "0.4564144015312195\n",
      "0.4564144015312195\n",
      "0.4564144015312195\n",
      "0.4564144015312195\n",
      "0.4564144015312195\n",
      "0.4564144015312195\n",
      "0.4564144015312195\n",
      "0.4564144015312195\n",
      "0.4564144015312195\n",
      "0.4564144015312195\n",
      "0.4564144015312195\n",
      "0.4564144015312195\n",
      "0.4564144015312195\n",
      "0.4564144015312195\n",
      "0.4564144015312195\n",
      "0.4564144015312195\n",
      "0.4564144015312195\n",
      "0.4564144015312195\n",
      "0.4564144015312195\n",
      "0.4564144015312195\n",
      "0.4564144015312195\n",
      "0.4564144015312195\n",
      "0.4564144015312195\n",
      "0.4564144015312195\n",
      "0.4564144015312195\n",
      "0.4564144015312195\n",
      "0.4564144015312195\n",
      "0.4564144015312195\n",
      "0.4564144015312195\n",
      "0.4564144015312195\n",
      "0.4564144015312195\n",
      "0.4564144015312195\n",
      "0.4564144015312195\n",
      "0.4564144015312195\n",
      "0.4564144015312195\n",
      "0.4564144015312195\n",
      "0.4564144015312195\n",
      "0.4564144015312195\n",
      "0.4564144015312195\n",
      "0.4564144015312195\n",
      "0.4564144015312195\n",
      "0.4564144015312195\n",
      "0.4564144015312195\n",
      "0.4564144015312195\n",
      "0.4564144015312195\n",
      "0.4564144015312195\n",
      "0.4564144015312195\n",
      "0.4564144015312195\n",
      "0.4564144015312195\n",
      "0.4564144015312195\n",
      "0.4564144015312195\n",
      "0.4564144015312195\n",
      "0.4564144015312195\n",
      "0.4564144015312195\n",
      "0.4564144015312195\n",
      "0.4564144015312195\n",
      "0.4564144015312195\n",
      "0.4564144015312195\n",
      "0.4564144015312195\n",
      "0.4564144015312195\n",
      "0.4564144015312195\n",
      "0.4564144015312195\n",
      "0.4564144015312195\n",
      "0.4564144015312195\n",
      "0.4564144015312195\n",
      "0.4564144015312195\n",
      "0.4564144015312195\n",
      "0.4564144015312195\n",
      "0.4564144015312195\n",
      "0.4564144015312195\n",
      "0.4564144015312195\n",
      "0.4564144015312195\n",
      "0.4564144015312195\n",
      "0.4564144015312195\n",
      "0.4564144015312195\n",
      "0.4564144015312195\n",
      "0.4564144015312195\n",
      "0.4564144015312195\n",
      "0.4564144015312195\n",
      "0.4564144015312195\n",
      "0.4564144015312195\n",
      "0.4564144015312195\n",
      "0.4564144015312195\n",
      "0.4564144015312195\n",
      "0.4564144015312195\n",
      "0.4564144015312195\n",
      "0.4564144015312195\n",
      "0.4564144015312195\n",
      "0.4564144015312195\n",
      "0.4564144015312195\n",
      "0.4564144015312195\n",
      "0.4564144015312195\n",
      "0.4564144015312195\n",
      "0.4564144015312195\n",
      "0.4564144015312195\n",
      "0.4564144015312195\n",
      "0.4564144015312195\n",
      "0.4564144015312195\n",
      "0.4564144015312195\n",
      "0.4564144015312195\n",
      "0.4564144015312195\n",
      "0.4564144015312195\n",
      "0.4564144015312195\n",
      "0.4564144015312195\n",
      "0.4564144015312195\n",
      "0.4564144015312195\n",
      "0.4564144015312195\n",
      "0.4564144015312195\n",
      "0.4564144015312195\n",
      "0.4564144015312195\n",
      "0.4564144015312195\n",
      "0.4564144015312195\n",
      "0.4564144015312195\n",
      "0.4564144015312195\n",
      "0.4564144015312195\n",
      "0.4564144015312195\n",
      "0.4564144015312195\n",
      "0.4564144015312195\n",
      "0.4564144015312195\n",
      "0.4564144015312195\n",
      "0.4564144015312195\n",
      "0.4564144015312195\n",
      "0.4564144015312195\n",
      "0.4564144015312195\n",
      "0.4564144015312195\n",
      "0.4564144015312195\n",
      "0.4564144015312195\n",
      "0.4564144015312195\n",
      "0.4564144015312195\n",
      "0.4564144015312195\n",
      "0.4564144015312195\n",
      "0.4564144015312195\n",
      "0.4564144015312195\n",
      "0.4564144015312195\n",
      "0.4564144015312195\n",
      "0.4564144015312195\n",
      "0.4564144015312195\n",
      "0.4564144015312195\n",
      "0.4564144015312195\n",
      "0.4564144015312195\n",
      "0.4564144015312195\n",
      "0.4564144015312195\n",
      "0.4564144015312195\n",
      "0.4564144015312195\n",
      "0.4564144015312195\n",
      "0.4564144015312195\n",
      "0.4564144015312195\n",
      "0.4564144015312195\n",
      "0.4564144015312195\n",
      "0.4564144015312195\n",
      "0.4564144015312195\n",
      "0.4564144015312195\n",
      "0.4564144015312195\n",
      "0.4564144015312195\n",
      "0.4564144015312195\n",
      "0.4564144015312195\n",
      "0.4564144015312195\n",
      "0.4564144015312195\n",
      "0.4564144015312195\n",
      "0.4564144015312195\n",
      "0.4564144015312195\n",
      "0.4564144015312195\n",
      "0.4564144015312195\n",
      "0.4564144015312195\n",
      "0.4564144015312195\n",
      "0.4564144015312195\n",
      "0.4564144015312195\n",
      "0.4564144015312195\n",
      "0.4564144015312195\n",
      "0.4564144015312195\n",
      "0.4564144015312195\n",
      "0.4564144015312195\n",
      "0.4564144015312195\n",
      "0.4564144015312195\n",
      "0.4564144015312195\n",
      "0.4564144015312195\n",
      "0.4564144015312195\n",
      "0.4564144015312195\n",
      "0.4564144015312195\n",
      "0.4564144015312195\n",
      "0.4564144015312195\n",
      "0.4564144015312195\n",
      "0.4564144015312195\n",
      "0.4564144015312195\n",
      "0.4564144015312195\n",
      "0.4564144015312195\n",
      "0.4564144015312195\n",
      "0.4564144015312195\n",
      "0.4564144015312195\n",
      "0.4564144015312195\n",
      "0.4564144015312195\n",
      "0.4564144015312195\n",
      "0.4564144015312195\n",
      "0.4564144015312195\n",
      "0.4564144015312195\n",
      "0.4564144015312195\n",
      "0.4564144015312195\n",
      "0.4564144015312195\n",
      "0.4564144015312195\n",
      "0.4564144015312195\n",
      "0.4564144015312195\n",
      "0.4564144015312195\n",
      "0.4564144015312195\n",
      "0.4564144015312195\n",
      "0.4564144015312195\n",
      "0.4564144015312195\n",
      "0.4564144015312195\n",
      "0.4564144015312195\n",
      "0.4564144015312195\n",
      "0.4564144015312195\n",
      "0.4564144015312195\n",
      "0.4564144015312195\n",
      "0.4564144015312195\n",
      "0.4564144015312195\n",
      "0.4564144015312195\n",
      "0.4564144015312195\n",
      "0.4564144015312195\n",
      "0.4564144015312195\n",
      "0.4564144015312195\n",
      "0.4564144015312195\n",
      "0.4564144015312195\n",
      "0.4564144015312195\n",
      "0.4564144015312195\n",
      "0.4564144015312195\n",
      "0.4564144015312195\n",
      "0.4564144015312195\n",
      "0.4564144015312195\n",
      "0.4564144015312195\n",
      "0.4564144015312195\n",
      "0.4564144015312195\n",
      "0.4564144015312195\n",
      "0.4564144015312195\n",
      "0.4564144015312195\n",
      "0.4564144015312195\n",
      "0.4564144015312195\n",
      "0.4564144015312195\n"
     ]
    }
   ],
   "source": [
    "for i in range(250):\n",
    "    ### выполнить розыгрыш выборки из раномерно распределенной СВ  \n",
    "    rez=stats.shapiro(X)\n",
    "    print(rez.pvalue)"
   ]
  },
  {
   "cell_type": "code",
   "execution_count": null,
   "metadata": {},
   "outputs": [],
   "source": []
  },
  {
   "cell_type": "markdown",
   "metadata": {},
   "source": [
    "C:\\Users\\sgold\\MathStat"
   ]
  },
  {
   "cell_type": "code",
   "execution_count": 5,
   "metadata": {},
   "outputs": [
    {
     "name": "stdout",
     "output_type": "stream",
     "text": [
      "C:\\Users\\sgold\\MathStat\n"
     ]
    },
    {
     "data": {
      "text/plain": [
       "'C:\\\\Users\\\\sgold\\\\MathStat'"
      ]
     },
     "execution_count": 5,
     "metadata": {},
     "output_type": "execute_result"
    }
   ],
   "source": [
    "print(os.getcwd())\n",
    "path=\"C:\\\\Users\\\\sgold\\\\MathStat\"\n",
    "os.chdir(path)\n",
    "os.getcwd()\n",
    "###os.listdir(path)"
   ]
  },
  {
   "cell_type": "code",
   "execution_count": 21,
   "metadata": {},
   "outputs": [],
   "source": [
    "doc=pd.read_excel(\"PFO_doctors_2000_2018.xlsx\",sheet_name='PFO')"
   ]
  },
  {
   "cell_type": "code",
   "execution_count": 22,
   "metadata": {},
   "outputs": [
    {
     "data": {
      "text/html": [
       "<div>\n",
       "<style scoped>\n",
       "    .dataframe tbody tr th:only-of-type {\n",
       "        vertical-align: middle;\n",
       "    }\n",
       "\n",
       "    .dataframe tbody tr th {\n",
       "        vertical-align: top;\n",
       "    }\n",
       "\n",
       "    .dataframe thead th {\n",
       "        text-align: right;\n",
       "    }\n",
       "</style>\n",
       "<table border=\"1\" class=\"dataframe\">\n",
       "  <thead>\n",
       "    <tr style=\"text-align: right;\">\n",
       "      <th></th>\n",
       "      <th>год</th>\n",
       "      <th>Приволжский федеральный округ</th>\n",
       "      <th>Республика Татарстан</th>\n",
       "      <th>Оренбургская область</th>\n",
       "      <th>Самарская область</th>\n",
       "      <th>Саратовская область</th>\n",
       "      <th>Ульяновская область</th>\n",
       "    </tr>\n",
       "  </thead>\n",
       "  <tbody>\n",
       "    <tr>\n",
       "      <th>0</th>\n",
       "      <td>2000</td>\n",
       "      <td>45.9</td>\n",
       "      <td>44.2</td>\n",
       "      <td>48.7</td>\n",
       "      <td>47.8</td>\n",
       "      <td>49.4</td>\n",
       "      <td>36.6</td>\n",
       "    </tr>\n",
       "    <tr>\n",
       "      <th>1</th>\n",
       "      <td>2001</td>\n",
       "      <td>45.7</td>\n",
       "      <td>44.1</td>\n",
       "      <td>49.0</td>\n",
       "      <td>47.2</td>\n",
       "      <td>49.3</td>\n",
       "      <td>36.9</td>\n",
       "    </tr>\n",
       "    <tr>\n",
       "      <th>2</th>\n",
       "      <td>2002</td>\n",
       "      <td>46.0</td>\n",
       "      <td>44.7</td>\n",
       "      <td>49.4</td>\n",
       "      <td>47.6</td>\n",
       "      <td>49.8</td>\n",
       "      <td>37.4</td>\n",
       "    </tr>\n",
       "    <tr>\n",
       "      <th>3</th>\n",
       "      <td>2003</td>\n",
       "      <td>46.3</td>\n",
       "      <td>45.4</td>\n",
       "      <td>50.0</td>\n",
       "      <td>47.7</td>\n",
       "      <td>50.2</td>\n",
       "      <td>35.9</td>\n",
       "    </tr>\n",
       "    <tr>\n",
       "      <th>4</th>\n",
       "      <td>2004</td>\n",
       "      <td>46.6</td>\n",
       "      <td>44.9</td>\n",
       "      <td>50.3</td>\n",
       "      <td>48.6</td>\n",
       "      <td>50.7</td>\n",
       "      <td>35.7</td>\n",
       "    </tr>\n",
       "  </tbody>\n",
       "</table>\n",
       "</div>"
      ],
      "text/plain": [
       "    год  Приволжский федеральный округ  Республика Татарстан  \\\n",
       "0  2000                           45.9                  44.2   \n",
       "1  2001                           45.7                  44.1   \n",
       "2  2002                           46.0                  44.7   \n",
       "3  2003                           46.3                  45.4   \n",
       "4  2004                           46.6                  44.9   \n",
       "\n",
       "   Оренбургская область  Самарская область  Саратовская область  \\\n",
       "0                  48.7               47.8                 49.4   \n",
       "1                  49.0               47.2                 49.3   \n",
       "2                  49.4               47.6                 49.8   \n",
       "3                  50.0               47.7                 50.2   \n",
       "4                  50.3               48.6                 50.7   \n",
       "\n",
       "   Ульяновская область  \n",
       "0                 36.6  \n",
       "1                 36.9  \n",
       "2                 37.4  \n",
       "3                 35.9  \n",
       "4                 35.7  "
      ]
     },
     "execution_count": 22,
     "metadata": {},
     "output_type": "execute_result"
    }
   ],
   "source": [
    "doc.head()"
   ]
  },
  {
   "cell_type": "code",
   "execution_count": 24,
   "metadata": {},
   "outputs": [
    {
     "data": {
      "text/plain": [
       "0     44.2\n",
       "1     44.1\n",
       "2     44.7\n",
       "3     45.4\n",
       "4     44.9\n",
       "5     44.9\n",
       "6     45.2\n",
       "7     44.8\n",
       "8     43.0\n",
       "9     43.9\n",
       "10    44.2\n",
       "11    44.2\n",
       "12    41.9\n",
       "13    41.4\n",
       "14    42.1\n",
       "15    40.6\n",
       "16    40.2\n",
       "17    41.5\n",
       "18    42.2\n",
       "Name: Республика Татарстан, dtype: float64"
      ]
     },
     "execution_count": 24,
     "metadata": {},
     "output_type": "execute_result"
    }
   ],
   "source": [
    "doc[\"Республика Татарстан\"]"
   ]
  },
  {
   "cell_type": "code",
   "execution_count": 25,
   "metadata": {},
   "outputs": [
    {
     "data": {
      "text/plain": [
       "<matplotlib.legend.Legend at 0x230e68594b0>"
      ]
     },
     "execution_count": 25,
     "metadata": {},
     "output_type": "execute_result"
    },
    {
     "data": {
      "image/png": "[encoded data removed]",
      "text/plain": [
       "<Figure size 640x480 with 1 Axes>"
      ]
     },
     "metadata": {},
     "output_type": "display_data"
    }
   ],
   "source": [
    "plt.plot(doc[\"Республика Татарстан\"])\n",
    "plt.plot(doc[\"Оренбургская область\"])\n",
    "plt.plot(doc[\"Самарская область\"])\n",
    "plt.legend([\"Татарстан\", \"Оренбургская область\",\"Самарская область\"])"
   ]
  },
  {
   "cell_type": "code",
   "execution_count": 26,
   "metadata": {},
   "outputs": [],
   "source": [
    "X_tatarstan=doc[\"Республика Татарстан\"]\n",
    "X_Samara=doc[\"Самарская область\"]\n",
    "X_Oren=doc[\"Оренбургская область\"]\n",
    "X_Saratov=doc[\"Саратовская область\"]"
   ]
  },
  {
   "cell_type": "code",
   "execution_count": 27,
   "metadata": {},
   "outputs": [
    {
     "data": {
      "image/png": "[encoded data removed]",
      "text/plain": [
       "<Figure size 640x480 with 1 Axes>"
      ]
     },
     "metadata": {},
     "output_type": "display_data"
    }
   ],
   "source": [
    "f_obs, bins, ignored = plt.hist(X_tatarstan,3)"
   ]
  },
  {
   "cell_type": "code",
   "execution_count": 28,
   "metadata": {},
   "outputs": [
    {
     "data": {
      "image/png": "[encoded data removed]",
      "text/plain": [
       "<Figure size 640x480 with 1 Axes>"
      ]
     },
     "metadata": {},
     "output_type": "display_data"
    }
   ],
   "source": [
    "f_obs, bins, ignored = plt.hist(X_Samara,3)"
   ]
  },
  {
   "cell_type": "code",
   "execution_count": 29,
   "metadata": {},
   "outputs": [
    {
     "name": "stdout",
     "output_type": "stream",
     "text": [
      "ShapiroResult(statistic=0.9011175036430359, pvalue=0.05097271502017975)\n"
     ]
    }
   ],
   "source": [
    "rez=stats.shapiro(X_tatarstan)\n",
    "print(rez)"
   ]
  },
  {
   "cell_type": "code",
   "execution_count": 30,
   "metadata": {},
   "outputs": [
    {
     "name": "stdout",
     "output_type": "stream",
     "text": [
      "ShapiroResult(statistic=0.9353136420249939, pvalue=0.21679607033729553)\n"
     ]
    }
   ],
   "source": [
    "rez=stats.shapiro(X_Samara)\n",
    "print(rez)"
   ]
  },
  {
   "cell_type": "code",
   "execution_count": 31,
   "metadata": {},
   "outputs": [
    {
     "name": "stdout",
     "output_type": "stream",
     "text": [
      "ShapiroResult(statistic=0.9283684492111206, pvalue=0.16159756481647491)\n"
     ]
    }
   ],
   "source": [
    "rez=stats.shapiro(X_Oren)\n",
    "print(rez)"
   ]
  },
  {
   "cell_type": "code",
   "execution_count": 32,
   "metadata": {},
   "outputs": [
    {
     "name": "stdout",
     "output_type": "stream",
     "text": [
      "ShapiroResult(statistic=0.9335411787033081, pvalue=0.20119549334049225)\n"
     ]
    }
   ],
   "source": [
    "rez=stats.shapiro(X_Saratov)\n",
    "print(rez)"
   ]
  },
  {
   "cell_type": "code",
   "execution_count": 33,
   "metadata": {},
   "outputs": [
    {
     "data": {
      "text/plain": [
       "BartlettResult(statistic=5.751812629750622, pvalue=0.12432960790851283)"
      ]
     },
     "execution_count": 33,
     "metadata": {},
     "output_type": "execute_result"
    }
   ],
   "source": [
    "res = stats.bartlett(X_tatarstan,X_Samara,X_Oren, X_Saratov)\n",
    "res"
   ]
  },
  {
   "cell_type": "code",
   "execution_count": 34,
   "metadata": {},
   "outputs": [
    {
     "name": "stdout",
     "output_type": "stream",
     "text": [
      "alpha:  0.01\n",
      "Tukey's HSD Pairwise Group Comparisons (95.0% Confidence Interval)\n",
      "Comparison  Statistic  p-value  Lower CI  Upper CI\n",
      " (0 - 1)     -4.379     0.000    -5.716    -3.042\n",
      " (0 - 2)     -6.263     0.000    -7.600    -4.926\n",
      " (0 - 3)     -7.874     0.000    -9.211    -6.537\n",
      " (1 - 0)      4.379     0.000     3.042     5.716\n",
      " (1 - 2)     -1.884     0.002    -3.221    -0.547\n",
      " (1 - 3)     -3.495     0.000    -4.832    -2.158\n",
      " (2 - 0)      6.263     0.000     4.926     7.600\n",
      " (2 - 1)      1.884     0.002     0.547     3.221\n",
      " (2 - 3)     -1.611     0.012    -2.948    -0.273\n",
      " (3 - 0)      7.874     0.000     6.537     9.211\n",
      " (3 - 1)      3.495     0.000     2.158     4.832\n",
      " (3 - 2)      1.611     0.012     0.273     2.948\n",
      "\n"
     ]
    }
   ],
   "source": [
    "print('alpha: ',alpha)\n",
    "from scipy.stats import tukey_hsd\n",
    "res = tukey_hsd(X_tatarstan,X_Samara,X_Oren, X_Saratov)\n",
    "print(res)"
   ]
  },
  {
   "cell_type": "code",
   "execution_count": 35,
   "metadata": {},
   "outputs": [
    {
     "data": {
      "text/plain": [
       "(43.336842105263166, 46.473684210526315, 1.6533503111748542)"
      ]
     },
     "execution_count": 35,
     "metadata": {},
     "output_type": "execute_result"
    }
   ],
   "source": [
    "alpha=0.01\n",
    "X_tatarstan=doc[\"Республика Татарстан\"]\n",
    "## print(X_tatarstan)\n",
    "mean_tatarstan=np.mean(X_tatarstan)\n",
    "std_tatarstan=np.std(X_tatarstan,ddof=1)\n",
    "a_0=np.mean(doc[\"Приволжский федеральный округ\"])\n",
    "(mean_tatarstan,a_0,std_tatarstan)\n"
   ]
  },
  {
   "cell_type": "code",
   "execution_count": 36,
   "metadata": {},
   "outputs": [
    {
     "name": "stdout",
     "output_type": "stream",
     "text": [
      "-8.26998225740159 7.613533966900695e-08\n"
     ]
    }
   ],
   "source": [
    "n=len(X_tatarstan)\n",
    "T_nabl=(mean_tatarstan-a_0)/std_tatarstan*math.sqrt(n)\n",
    "p_value=stats.t.cdf(T_nabl,df=n-1)\n",
    "print(T_nabl,p_value)"
   ]
  },
  {
   "cell_type": "code",
   "execution_count": 37,
   "metadata": {},
   "outputs": [
    {
     "name": "stdout",
     "output_type": "stream",
     "text": [
      "Ttest_1sampResult(statistic=-8.26998225740159, pvalue=7.613533966900695e-08)\n"
     ]
    }
   ],
   "source": [
    "res=stats.ttest_1samp(X_tatarstan,popmean=a_0,alternative='less')\n",
    "print(res)"
   ]
  },
  {
   "cell_type": "code",
   "execution_count": 38,
   "metadata": {},
   "outputs": [
    {
     "data": {
      "text/plain": [
       "(43.336842105263166, 47.71578947368421)"
      ]
     },
     "execution_count": 38,
     "metadata": {},
     "output_type": "execute_result"
    }
   ],
   "source": [
    "X_tatarstan=doc[\"Республика Татарстан\"]\n",
    "X_Samara=doc[\"Самарская область\"]\n",
    "(np.mean(X_tatarstan),np.mean(X_Samara))"
   ]
  },
  {
   "cell_type": "code",
   "execution_count": 39,
   "metadata": {},
   "outputs": [
    {
     "name": "stdout",
     "output_type": "stream",
     "text": [
      "Ttest_indResult(statistic=-9.799544639650781, pvalue=5.3205976761527e-12)\n"
     ]
    }
   ],
   "source": [
    "alpha=0.01\n",
    "### H_0: M(X_tatarstan) = M(X_Samara)\n",
    "### H_1: M(X_tatarstan) <  M(X_Samara)\n",
    "############################################\n",
    "### If pvalue>alpha => H_0 adopted\n",
    "### If pvalue<=alpha => H_0 rejected and H_1 adopted\n",
    "res=stats.ttest_ind(X_tatarstan,X_Samara,alternative='less')\n",
    "print(res) "
   ]
  },
  {
   "cell_type": "code",
   "execution_count": 40,
   "metadata": {},
   "outputs": [
    {
     "name": "stdout",
     "output_type": "stream",
     "text": [
      "Ttest_indResult(statistic=9.799544639650781, pvalue=5.3205976761527e-12)\n"
     ]
    }
   ],
   "source": [
    "### H_0: M(X_Samara)= M(X_tatarstan) \n",
    "### H_1:  M(X_Samara) > M(X_tatarstan)\n",
    "############################################\n",
    "### If pvalue>alpha => H_0 adopted\n",
    "### If pvalue<=alpha => H_0 rejected and H_1 adopted\n",
    "alpha=0.01\n",
    "res=stats.ttest_ind(X_Samara,X_tatarstan,alternative='greater')\n",
    "print(res)"
   ]
  },
  {
   "cell_type": "code",
   "execution_count": null,
   "metadata": {},
   "outputs": [],
   "source": []
  }
 ],
 "metadata": {
  "kernelspec": {
   "display_name": "Python 3",
   "language": "python",
   "name": "python3"
  },
  "language_info": {
   "codemirror_mode": {
    "name": "ipython",
    "version": 3
   },
   "file_extension": ".py",
   "mimetype": "text/x-python",
   "name": "python",
   "nbconvert_exporter": "python",
   "pygments_lexer": "ipython3",
   "version": "3.10.11"
  }
 },
 "nbformat": 4,
 "nbformat_minor": 2
}
