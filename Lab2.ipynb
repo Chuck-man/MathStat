{
 "cells": [
  {
   "cell_type": "markdown",
   "metadata": {},
   "source": [
    "Условия лабораторной:\n",
    "Вариант 7:\n",
    "Параметры (a, σ^2) - (-5,8); γ - 0.99; n - 15; M - 2100; K - 160;\n",
    "Случайная величина Z - ;\n",
    "Случайная величина W - ."
   ]
  },
  {
   "cell_type": "code",
   "execution_count": 2,
   "metadata": {},
   "outputs": [],
   "source": [
    "import numpy as np\n",
    "import pandas as pd\n",
    "import matplotlib.pyplot as plt\n",
    "import scipy.stats as stats\n",
    "from scipy.stats import skew, kurtosis"
   ]
  },
  {
   "cell_type": "code",
   "execution_count": 3,
   "metadata": {},
   "outputs": [
    {
     "name": "stdout",
     "output_type": "stream",
     "text": [
      "[  6.2650441   -2.90609383   2.08408964 -23.57089519  -8.26220107\n",
      "  -9.41320049  -5.51363579  -0.33020906  -5.28133696  -5.38485564\n",
      "   0.35488354  -8.67254283  -2.88763825  -4.25002573 -10.17575434]\n"
     ]
    }
   ],
   "source": [
    "sample = np.random.normal(-5, 8, 15)\n",
    "\n",
    "print(sample)"
   ]
  },
  {
   "cell_type": "code",
   "execution_count": 4,
   "metadata": {},
   "outputs": [
    {
     "name": "stdout",
     "output_type": "stream",
     "text": [
      "Доверительный интервал для математического ожидания: (-5.222180483905011, -5.170402437318397)\n"
     ]
    }
   ],
   "source": [
    "# Заданные параметры\n",
    "alpha = 1 - 0.99  # уровень доверия\n",
    "mean = np.mean(sample)  # выборочное среднее\n",
    "std_dev = 8  # известное стандартное отклонение\n",
    "n = 15  # размер выборки\n",
    "\n",
    "# Находим доверительный интервал\n",
    "confidence_interval = stats.norm.interval(alpha, loc=mean, scale=std_dev/np.sqrt(n))\n",
    "\n",
    "print(\"Доверительный интервал для математического ожидания:\", confidence_interval)"
   ]
  },
  {
   "cell_type": "code",
   "execution_count": 6,
   "metadata": {},
   "outputs": [
    {
     "name": "stdout",
     "output_type": "stream",
     "text": [
      "Доверительный интервал для математического ожидания: (-11.938549486617509, 0.16653681681605192)\n"
     ]
    }
   ],
   "source": [
    "# Заданные параметры\n",
    "gamma = 0.99  # уровень доверия\n",
    "\n",
    "# Размер выборки\n",
    "n = len(sample)\n",
    "\n",
    "# Вычисляем выборочное среднее и стандартное отклонение\n",
    "mean = np.mean(sample)\n",
    "std_dev = np.std(sample, ddof=1)  # испольщуем исправленное стандартное отклонение для расчета доверительного интервала\n",
    "\n",
    "# Находим квантили распределения Стьюдента\n",
    "t = stats.t.ppf((1 + gamma) / 2, df=n - 1)\n",
    "\n",
    "# Находим доверительный интервал\n",
    "margin_of_error = t * std_dev / np.sqrt(n)\n",
    "confidence_interval = (mean - margin_of_error, mean + margin_of_error)\n",
    "\n",
    "print(\"Доверительный интервал для математического ожидания:\", confidence_interval)"
   ]
  },
  {
   "cell_type": "code",
   "execution_count": 7,
   "metadata": {},
   "outputs": [
    {
     "name": "stdout",
     "output_type": "stream",
     "text": [
      "Интервал для дисперсии при уровне значимости 0.010000000000000009: (27.72, 213.05)\n"
     ]
    }
   ],
   "source": [
    "alpha = 1 - 0.99  # уровень значимости\n",
    "n = len(sample)  # размер выборки\n",
    "s2 = np.var(sample, ddof=1)  # выборочная дисперсия\n",
    "\n",
    "# определение интервала\n",
    "left = (n - 1) * s2 / stats.chi2.ppf(1 - alpha/2, n - 1)\n",
    "right = (n - 1) * s2 / stats.chi2.ppf(alpha/2, n - 1)\n",
    "\n",
    "print(\"Интервал для дисперсии при уровне значимости {0}: ({1}, {2})\".format(alpha, round(left, 2), round(right, 2)))"
   ]
  }
 ],
 "metadata": {
  "kernelspec": {
   "display_name": "Python 3",
   "language": "python",
   "name": "python3"
  },
  "language_info": {
   "codemirror_mode": {
    "name": "ipython",
    "version": 3
   },
   "file_extension": ".py",
   "mimetype": "text/x-python",
   "name": "python",
   "nbconvert_exporter": "python",
   "pygments_lexer": "ipython3",
   "version": "3.10.11"
  }
 },
 "nbformat": 4,
 "nbformat_minor": 2
}
