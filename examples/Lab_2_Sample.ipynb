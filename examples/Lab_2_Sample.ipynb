{
 "cells": [
  {
   "cell_type": "markdown",
   "id": "6b9f74c2",
   "metadata": {
    "toc": true
   },
   "source": [
    "<h1>Table of Contents<span class=\"tocSkip\"></span></h1>\n",
    "<div class=\"toc\"><ul class=\"toc-item\"></ul></div>"
   ]
  },
  {
   "cell_type": "code",
   "execution_count": 1,
   "id": "bc22cd26",
   "metadata": {},
   "outputs": [],
   "source": [
    "import math as mt\n",
    "import numpy as np\n",
    "import pandas as pd\n",
    "import scipy as sci\n",
    "import matplotlib.pyplot as plt\n",
    "import scipy.stats as st\n",
    "import statistics"
   ]
  },
  {
   "cell_type": "code",
   "execution_count": 2,
   "id": "592164ae",
   "metadata": {},
   "outputs": [],
   "source": [
    "# Лабораторная работа №2"
   ]
  },
  {
   "cell_type": "code",
   "execution_count": 3,
   "id": "301c6adc",
   "metadata": {},
   "outputs": [],
   "source": [
    "mu = 0\n",
    "sigma=1\n",
    "n=25\n",
    "#n=7\n",
    "M=4000"
   ]
  },
  {
   "cell_type": "code",
   "execution_count": 4,
   "id": "8f2b1131",
   "metadata": {},
   "outputs": [
    {
     "name": "stdout",
     "output_type": "stream",
     "text": [
      "qqq=F_s_INVERSE(0.95)= 1.6448536269514722\n",
      "P(U< 1.6448536269514722 )=F_S( 1.6448536269514722 )= 0.95\n"
     ]
    }
   ],
   "source": [
    "### Percent point function =ppf\n",
    "qqq=st.norm.ppf(0.95, loc=0, scale=1)\n",
    "print(\"qqq=F_s_INVERSE(0.95)=\",qqq)\n",
    "ppp=st.norm.cdf(qqq, loc=0, scale=1)\n",
    "print(\"P(U<\",qqq,\")=F_S(\",qqq,\")=\",ppp)"
   ]
  },
  {
   "cell_type": "code",
   "execution_count": 5,
   "id": "d8a32fcd",
   "metadata": {},
   "outputs": [],
   "source": [
    "######Розыгрыш нормальной выборки, по которой строим интервальную оценку \n",
    "sample = np.random.normal(mu, sigma, n)\n",
    "a_estimate=np.mean(sample)\n",
    "sigma_estimate=statistics.stdev(sample)                 \n",
    "(a_estimate,sigma_estimate)\n",
    "######################\n",
    "gamma_0=0.95"
   ]
  },
  {
   "cell_type": "code",
   "execution_count": 6,
   "id": "9cd76fa6",
   "metadata": {},
   "outputs": [
    {
     "name": "stdout",
     "output_type": "stream",
     "text": [
      "1.959963984540054\n",
      "[-0.14139401161800647, 0.6425915821980152]\n"
     ]
    }
   ],
   "source": [
    "#### Вычисляем границы интервальной оценки математического ожидания при известной дисперсии\n",
    "#### \"вручную\"\n",
    "interval_for_MX_=[0]*2\n",
    "### Percent point function =ppf= Inverse CDF\n",
    "t_gamma_0=st.norm.ppf(1/2+gamma_0/2, loc=0, scale=1)\n",
    "print(t_gamma_0)\n",
    "interval_for_MX_[0]=a_estimate-sigma*t_gamma_0/np.sqrt(n)\n",
    "interval_for_MX_[1]=a_estimate+sigma*t_gamma_0/np.sqrt(n)\n",
    "print(interval_for_MX_)"
   ]
  },
  {
   "cell_type": "code",
   "execution_count": 7,
   "id": "e873d2a5",
   "metadata": {},
   "outputs": [
    {
     "name": "stdout",
     "output_type": "stream",
     "text": [
      "(-0.14139401161800647, 0.6425915821980152)\n"
     ]
    }
   ],
   "source": [
    "#### Вычисляем границы интервальной оценки математического ожидания при известной дисперсии\n",
    "#### с помощью встроенных статистических функций Питона\n",
    "interval_estimate_2=st.norm.interval(confidence=gamma_0, \n",
    "              loc=a_estimate,\n",
    "              scale=sigma/np.sqrt(n)) \n",
    "print(interval_estimate_2)"
   ]
  },
  {
   "cell_type": "code",
   "execution_count": 8,
   "id": "7fd25aad",
   "metadata": {},
   "outputs": [],
   "source": [
    "##################################################################################################\n",
    "### Смоделировать M выборок из n значений нормально распределенной случайной величины X \n",
    "### с параметрами (a, sigma^2).  \n",
    "### По каждой из M выборок  с надежностью gamma найти интервальную оценку (доверительный интервал) \n",
    "### для математического ожидания случайной величины X, предполагая, что дисперсия \n",
    "### случайной величины X неизвестна. \n",
    "### По результатам моделирования найти точечную оценку gamma* надежности gamma.\n",
    "###################################################################################################"
   ]
  },
  {
   "cell_type": "code",
   "execution_count": 9,
   "id": "327e6841",
   "metadata": {},
   "outputs": [
    {
     "name": "stdout",
     "output_type": "stream",
     "text": [
      "gamma^= 0.95275\n",
      "gamma_0= 0.95\n"
     ]
    }
   ],
   "source": [
    "MX_left=[0]*M\n",
    "MX_right=[0]*M\n",
    "for i in range(M):\n",
    "        ##################################\n",
    "        sample = np.random.normal(mu, sigma, n)\n",
    "        mu_estimate=np.mean(sample)\n",
    "        ##################################\n",
    "        interval_estimate_2=st.t.interval(confidence=gamma_0, df=len(sample)-1,\n",
    "              loc=mu_estimate,\n",
    "              scale=st.sem(sample)) \n",
    "        MX_left[i]  = interval_estimate_2[0]\n",
    "        MX_right[i] = interval_estimate_2[1]\n",
    "s0=pd.Series(data=MX_left)\n",
    "###print(s0)\n",
    "s1=pd.Series(data=MX_right)\n",
    "COUNT_=((s0<mu)&(s1>mu)).sum()\n",
    "gamma_estimate=COUNT_/M \n",
    "print('gamma^=',gamma_estimate)\n",
    "print('gamma_0=',gamma_0) "
   ]
  },
  {
   "cell_type": "code",
   "execution_count": null,
   "id": "c123d1bb",
   "metadata": {},
   "outputs": [],
   "source": []
  }
 ],
 "metadata": {
  "kernelspec": {
   "display_name": "Python 3 (ipykernel)",
   "language": "python",
   "name": "python3"
  },
  "language_info": {
   "codemirror_mode": {
    "name": "ipython",
    "version": 3
   },
   "file_extension": ".py",
   "mimetype": "text/x-python",
   "name": "python",
   "nbconvert_exporter": "python",
   "pygments_lexer": "ipython3",
   "version": "3.11.4"
  },
  "toc": {
   "base_numbering": 1,
   "nav_menu": {
    "height": "45px",
    "width": "188px"
   },
   "number_sections": true,
   "sideBar": true,
   "skip_h1_title": false,
   "title_cell": "Table of Contents",
   "title_sidebar": "Contents",
   "toc_cell": true,
   "toc_position": {},
   "toc_section_display": true,
   "toc_window_display": false
  }
 },
 "nbformat": 4,
 "nbformat_minor": 5
}
